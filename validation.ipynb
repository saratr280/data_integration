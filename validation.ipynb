{
 "cells": [
  {
   "cell_type": "code",
   "execution_count": 1,
   "id": "0577ef7f",
   "metadata": {},
   "outputs": [],
   "source": [
    "import pandas as pd "
   ]
  },
  {
   "cell_type": "code",
   "execution_count": 2,
   "id": "6623783f",
   "metadata": {},
   "outputs": [],
   "source": [
    "# existence assertion: 1. Light condition is available in all the records. \n",
    "#2. Week day record is found in all the records.\n",
    "df = pd.read_csv(\"Hwy26Crashes2019.csv\")"
   ]
  },
  {
   "cell_type": "code",
   "execution_count": 3,
   "id": "ed9267b1",
   "metadata": {},
   "outputs": [
    {
     "name": "stdout",
     "output_type": "stream",
     "text": [
      "False\n"
     ]
    }
   ],
   "source": [
    "#Light Condition\n",
    "print(pd.notnull(df[\"Light Condition\"]).all())"
   ]
  },
  {
   "cell_type": "code",
   "execution_count": 4,
   "id": "16b1a49d",
   "metadata": {},
   "outputs": [
    {
     "name": "stdout",
     "output_type": "stream",
     "text": [
      "False\n"
     ]
    }
   ],
   "source": [
    "# Week Day Code\n",
    "print(pd.notnull(df[\"Week Day Code\"]).all())"
   ]
  },
  {
   "cell_type": "code",
   "execution_count": 14,
   "id": "a504b55e",
   "metadata": {},
   "outputs": [
    {
     "data": {
      "text/html": [
       "<div>\n",
       "<style scoped>\n",
       "    .dataframe tbody tr th:only-of-type {\n",
       "        vertical-align: middle;\n",
       "    }\n",
       "\n",
       "    .dataframe tbody tr th {\n",
       "        vertical-align: top;\n",
       "    }\n",
       "\n",
       "    .dataframe thead th {\n",
       "        text-align: right;\n",
       "    }\n",
       "</style>\n",
       "<table border=\"1\" class=\"dataframe\">\n",
       "  <thead>\n",
       "    <tr style=\"text-align: right;\">\n",
       "      <th></th>\n",
       "      <th>Crash Day</th>\n",
       "    </tr>\n",
       "  </thead>\n",
       "  <tbody>\n",
       "    <tr>\n",
       "      <th>0</th>\n",
       "      <td>14.0</td>\n",
       "    </tr>\n",
       "    <tr>\n",
       "      <th>1</th>\n",
       "      <td>NaN</td>\n",
       "    </tr>\n",
       "    <tr>\n",
       "      <th>2</th>\n",
       "      <td>NaN</td>\n",
       "    </tr>\n",
       "    <tr>\n",
       "      <th>3</th>\n",
       "      <td>NaN</td>\n",
       "    </tr>\n",
       "    <tr>\n",
       "      <th>4</th>\n",
       "      <td>NaN</td>\n",
       "    </tr>\n",
       "    <tr>\n",
       "      <th>5</th>\n",
       "      <td>3.0</td>\n",
       "    </tr>\n",
       "    <tr>\n",
       "      <th>6</th>\n",
       "      <td>NaN</td>\n",
       "    </tr>\n",
       "    <tr>\n",
       "      <th>7</th>\n",
       "      <td>NaN</td>\n",
       "    </tr>\n",
       "    <tr>\n",
       "      <th>8</th>\n",
       "      <td>NaN</td>\n",
       "    </tr>\n",
       "    <tr>\n",
       "      <th>9</th>\n",
       "      <td>17.0</td>\n",
       "    </tr>\n",
       "    <tr>\n",
       "      <th>10</th>\n",
       "      <td>NaN</td>\n",
       "    </tr>\n",
       "    <tr>\n",
       "      <th>11</th>\n",
       "      <td>NaN</td>\n",
       "    </tr>\n",
       "    <tr>\n",
       "      <th>12</th>\n",
       "      <td>7.0</td>\n",
       "    </tr>\n",
       "    <tr>\n",
       "      <th>13</th>\n",
       "      <td>NaN</td>\n",
       "    </tr>\n",
       "    <tr>\n",
       "      <th>14</th>\n",
       "      <td>NaN</td>\n",
       "    </tr>\n",
       "    <tr>\n",
       "      <th>15</th>\n",
       "      <td>NaN</td>\n",
       "    </tr>\n",
       "    <tr>\n",
       "      <th>16</th>\n",
       "      <td>8.0</td>\n",
       "    </tr>\n",
       "    <tr>\n",
       "      <th>17</th>\n",
       "      <td>NaN</td>\n",
       "    </tr>\n",
       "    <tr>\n",
       "      <th>18</th>\n",
       "      <td>NaN</td>\n",
       "    </tr>\n",
       "    <tr>\n",
       "      <th>19</th>\n",
       "      <td>NaN</td>\n",
       "    </tr>\n",
       "  </tbody>\n",
       "</table>\n",
       "</div>"
      ],
      "text/plain": [
       "    Crash Day\n",
       "0        14.0\n",
       "1         NaN\n",
       "2         NaN\n",
       "3         NaN\n",
       "4         NaN\n",
       "5         3.0\n",
       "6         NaN\n",
       "7         NaN\n",
       "8         NaN\n",
       "9        17.0\n",
       "10        NaN\n",
       "11        NaN\n",
       "12        7.0\n",
       "13        NaN\n",
       "14        NaN\n",
       "15        NaN\n",
       "16        8.0\n",
       "17        NaN\n",
       "18        NaN\n",
       "19        NaN"
      ]
     },
     "execution_count": 14,
     "metadata": {},
     "output_type": "execute_result"
    }
   ],
   "source": [
    "#limit assertions\n",
    "#crash Day\n",
    "crash_day = df[[\"Crash Day\"]]\n",
    "crash_day.head(20)"
   ]
  },
  {
   "cell_type": "code",
   "execution_count": 15,
   "id": "9338fed9",
   "metadata": {},
   "outputs": [
    {
     "name": "stdout",
     "output_type": "stream",
     "text": [
      "Crash Day Assertion Succeded\n"
     ]
    }
   ],
   "source": [
    "crash_day = crash_day[crash_day.notnull()]\n",
    "if len(crash_day) == len(crash_day[crash_day >= 1][crash_day <= 31]):\n",
    "\tprint(\"Crash Day Assertion Succeded\")\n",
    "else:\n",
    "\tprint(\"Crash Day Assertion Failed. All the days aren't in the range of 1 - 31\")"
   ]
  },
  {
   "cell_type": "code",
   "execution_count": 16,
   "id": "62138dbe",
   "metadata": {},
   "outputs": [
    {
     "data": {
      "text/html": [
       "<div>\n",
       "<style scoped>\n",
       "    .dataframe tbody tr th:only-of-type {\n",
       "        vertical-align: middle;\n",
       "    }\n",
       "\n",
       "    .dataframe tbody tr th {\n",
       "        vertical-align: top;\n",
       "    }\n",
       "\n",
       "    .dataframe thead th {\n",
       "        text-align: right;\n",
       "    }\n",
       "</style>\n",
       "<table border=\"1\" class=\"dataframe\">\n",
       "  <thead>\n",
       "    <tr style=\"text-align: right;\">\n",
       "      <th></th>\n",
       "      <th>Crash Month</th>\n",
       "    </tr>\n",
       "  </thead>\n",
       "  <tbody>\n",
       "    <tr>\n",
       "      <th>0</th>\n",
       "      <td>3.0</td>\n",
       "    </tr>\n",
       "    <tr>\n",
       "      <th>1</th>\n",
       "      <td>NaN</td>\n",
       "    </tr>\n",
       "    <tr>\n",
       "      <th>2</th>\n",
       "      <td>NaN</td>\n",
       "    </tr>\n",
       "    <tr>\n",
       "      <th>3</th>\n",
       "      <td>NaN</td>\n",
       "    </tr>\n",
       "    <tr>\n",
       "      <th>4</th>\n",
       "      <td>NaN</td>\n",
       "    </tr>\n",
       "    <tr>\n",
       "      <th>...</th>\n",
       "      <td>...</td>\n",
       "    </tr>\n",
       "    <tr>\n",
       "      <th>2734</th>\n",
       "      <td>5.0</td>\n",
       "    </tr>\n",
       "    <tr>\n",
       "      <th>2735</th>\n",
       "      <td>NaN</td>\n",
       "    </tr>\n",
       "    <tr>\n",
       "      <th>2736</th>\n",
       "      <td>NaN</td>\n",
       "    </tr>\n",
       "    <tr>\n",
       "      <th>2737</th>\n",
       "      <td>NaN</td>\n",
       "    </tr>\n",
       "    <tr>\n",
       "      <th>2738</th>\n",
       "      <td>NaN</td>\n",
       "    </tr>\n",
       "  </tbody>\n",
       "</table>\n",
       "<p>2739 rows × 1 columns</p>\n",
       "</div>"
      ],
      "text/plain": [
       "      Crash Month\n",
       "0             3.0\n",
       "1             NaN\n",
       "2             NaN\n",
       "3             NaN\n",
       "4             NaN\n",
       "...           ...\n",
       "2734          5.0\n",
       "2735          NaN\n",
       "2736          NaN\n",
       "2737          NaN\n",
       "2738          NaN\n",
       "\n",
       "[2739 rows x 1 columns]"
      ]
     },
     "execution_count": 16,
     "metadata": {},
     "output_type": "execute_result"
    }
   ],
   "source": [
    "#crash month\n",
    "crash_Month = df[[\"Crash Month\"]]\n",
    "crash_Month"
   ]
  },
  {
   "cell_type": "code",
   "execution_count": 17,
   "id": "c6365b4d",
   "metadata": {},
   "outputs": [
    {
     "name": "stdout",
     "output_type": "stream",
     "text": [
      "Crash Month Assertion Succeded\n"
     ]
    }
   ],
   "source": [
    "crash_Month = crash_Month[crash_Month.notnull()]\n",
    "if len(crash_Month) == len(crash_Month[crash_Month >= 1][crash_Month <= 12]):\n",
    "\tprint(\"Crash Month Assertion Succeded\")\n",
    "else:\n",
    "\tprint(\"Crash Month Assertion Failed. All the Months aren't in the range of 1 - 12\")    "
   ]
  },
  {
   "cell_type": "code",
   "execution_count": 18,
   "id": "1fda742f",
   "metadata": {},
   "outputs": [
    {
     "name": "stdout",
     "output_type": "stream",
     "text": [
      "Every Crash doesn't have a unique ID\n"
     ]
    }
   ],
   "source": [
    "#summary assertions 1\n",
    "if len(df[\"Crash ID\"]) == len(pd.unique(df[\"Crash ID\"])):\n",
    "\tprint(\"Every Crash has a unique ID\")\n",
    "else:\n",
    "\tprint(\"Every Crash doesn't have a unique ID\")"
   ]
  },
  {
   "cell_type": "code",
   "execution_count": 19,
   "id": "6c0c0748",
   "metadata": {},
   "outputs": [
    {
     "name": "stdout",
     "output_type": "stream",
     "text": [
      "Record Type is always in [1 2 3]\n"
     ]
    }
   ],
   "source": [
    "#summary assertions 2\n",
    "print(f\"Record Type is always in {pd.unique(df['Record Type'])}\")"
   ]
  },
  {
   "cell_type": "code",
   "execution_count": null,
   "id": "867a6215",
   "metadata": {},
   "outputs": [],
   "source": []
  }
 ],
 "metadata": {
  "kernelspec": {
   "display_name": "Python 3 (ipykernel)",
   "language": "python",
   "name": "python3"
  },
  "language_info": {
   "codemirror_mode": {
    "name": "ipython",
    "version": 3
   },
   "file_extension": ".py",
   "mimetype": "text/x-python",
   "name": "python",
   "nbconvert_exporter": "python",
   "pygments_lexer": "ipython3",
   "version": "3.8.5"
  }
 },
 "nbformat": 4,
 "nbformat_minor": 5
}
